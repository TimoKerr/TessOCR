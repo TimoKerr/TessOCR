{
 "metadata": {
  "language_info": {
   "codemirror_mode": {
    "name": "ipython",
    "version": 3
   },
   "file_extension": ".py",
   "mimetype": "text/x-python",
   "name": "python",
   "nbconvert_exporter": "python",
   "pygments_lexer": "ipython3",
   "version": "3.8.5-final"
  },
  "orig_nbformat": 2,
  "kernelspec": {
   "name": "python3",
   "display_name": "Python 3",
   "language": "python"
  }
 },
 "nbformat": 4,
 "nbformat_minor": 2,
 "cells": [
  {
   "cell_type": "code",
   "execution_count": 1,
   "metadata": {},
   "outputs": [
    {
     "output_type": "stream",
     "name": "stdout",
     "text": [
      "uint8\n"
     ]
    }
   ],
   "source": [
    "import cv2\n",
    "import pytesseract\n",
    "from pytesseract import image_to_boxes, image_to_string\n",
    "from pytesseract import Output\n",
    "import os\n",
    "import matplotlib.pyplot as plt\n",
    "from PIL import Image\n",
    "import numpy as np"
   ]
  },
  {
   "cell_type": "code",
   "execution_count": 4,
   "metadata": {},
   "outputs": [],
   "source": [
    "image_name = \"data/prakrit.png\"\n",
    "img_cv2 = cv2.imread(image_name)\n",
    "\n",
    "img_preprocessed = preprocessing.pipeline(img_cv2, 3)\n",
    "img_preprocessed_masked = preprocessing.define_boundaries(img_preprocessed)\n",
    "\n",
    "cv2.imwrite(\"data/Preprocessed_image.png\", img_preprocessed)\n",
    "cv2.imwrite(\"data/Preprocessed_image_mask.png\", img_preprocessed_masked)\n",
    "\n",
    "with open('output/OCRd.txt', mode = 'w') as f:\n",
    "    f.write(text)"
   ]
  }
 ]
}